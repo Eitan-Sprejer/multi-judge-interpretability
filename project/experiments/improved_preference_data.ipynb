{
 "cells": [
  {
   "cell_type": "code",
   "execution_count": 9,
   "id": "2fb6909f",
   "metadata": {},
   "outputs": [],
   "source": [
    "from datasets import load_dataset"
   ]
  },
  {
   "cell_type": "code",
   "execution_count": 10,
   "id": "feac7e98",
   "metadata": {},
   "outputs": [],
   "source": [
    "dataset_name = \"openbmb/UltraFeedback\"\n",
    "split_name = \"train\""
   ]
  },
  {
   "cell_type": "code",
   "execution_count": 11,
   "id": "df50b728",
   "metadata": {},
   "outputs": [
    {
     "name": "stdout",
     "output_type": "stream",
     "text": [
      "Loading dataset 'openbmb/UltraFeedback' (split: 'train')...\n"
     ]
    }
   ],
   "source": [
    "print(f\"Loading dataset '{dataset_name}' (split: '{split_name}')...\")\n",
    "\n",
    "try:\n",
    "    ds = load_dataset(dataset_name, split=split_name)\n",
    "except Exception as e:\n",
    "    print(f\"Error loading dataset: {e}\")\n",
    "    print(\"Please ensure you have an internet connection, the 'datasets' library is installed (pip install datasets),\")\n",
    "    print(\"and the dataset name/split are correct.\")"
   ]
  },
  {
   "cell_type": "code",
   "execution_count": 12,
   "id": "f7809248",
   "metadata": {},
   "outputs": [
    {
     "data": {
      "text/plain": [
       "Dataset({\n",
       "    features: ['source', 'instruction', 'models', 'completions', 'correct_answers', 'incorrect_answers'],\n",
       "    num_rows: 63967\n",
       "})"
      ]
     },
     "execution_count": 12,
     "metadata": {},
     "output_type": "execute_result"
    }
   ],
   "source": [
    "ds"
   ]
  },
  {
   "cell_type": "code",
   "execution_count": null,
   "id": "23e117e1",
   "metadata": {},
   "outputs": [],
   "source": []
  }
 ],
 "metadata": {
  "kernelspec": {
   "display_name": ".venv",
   "language": "python",
   "name": "python3"
  },
  "language_info": {
   "codemirror_mode": {
    "name": "ipython",
    "version": 3
   },
   "file_extension": ".py",
   "mimetype": "text/x-python",
   "name": "python",
   "nbconvert_exporter": "python",
   "pygments_lexer": "ipython3",
   "version": "3.10.12"
  }
 },
 "nbformat": 4,
 "nbformat_minor": 5
}
